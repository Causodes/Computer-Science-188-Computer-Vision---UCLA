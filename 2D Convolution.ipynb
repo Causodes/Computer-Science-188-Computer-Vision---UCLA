{
  "nbformat": 4,
  "nbformat_minor": 0,
  "metadata": {
    "coursera": {
      "course_slug": "convolutional-neural-networks",
      "graded_item_id": "OEpi5",
      "launcher_item_id": "jK9EQ"
    },
    "kernelspec": {
      "name": "python3",
      "display_name": "Python 3"
    },
    "language_info": {
      "codemirror_mode": {
        "name": "ipython",
        "version": 3
      },
      "file_extension": ".py",
      "mimetype": "text/x-python",
      "name": "python",
      "nbconvert_exporter": "python",
      "pygments_lexer": "ipython3",
      "version": "3.6.4"
    },
    "colab": {
      "name": "Starter.ipynb",
      "provenance": [],
      "collapsed_sections": [],
      "include_colab_link": true
    },
    "accelerator": "GPU"
  },
  "cells": [
    {
      "cell_type": "markdown",
      "metadata": {
        "id": "view-in-github",
        "colab_type": "text"
      },
      "source": [
        "<a href=\"https://colab.research.google.com/github/Causodes/Computer-Science-188-Computer-Vision---UCLA/blob/master/2D%20Convolution.ipynb\" target=\"_parent\"><img src=\"https://colab.research.google.com/assets/colab-badge.svg\" alt=\"Open In Colab\"/></a>"
      ]
    },
    {
      "cell_type": "markdown",
      "metadata": {
        "id": "ci7JfrFM3k4I",
        "colab_type": "text"
      },
      "source": [
        "# Import the Required Dependencies \n"
      ]
    },
    {
      "cell_type": "code",
      "metadata": {
        "id": "6LD13_jJ3k4J",
        "colab_type": "code",
        "outputId": "eac6ef82-0a64-474b-fc92-38f7a0f65641",
        "colab": {
          "base_uri": "https://localhost:8080/",
          "height": 97
        }
      },
      "source": [
        "import numpy as np\n",
        "from keras import layers\n",
        "from keras.preprocessing.image import ImageDataGenerator\n",
        "from keras.layers import Input, Add, Dense, Activation, ZeroPadding2D, BatchNormalization, Flatten, Conv2D, AveragePooling2D, MaxPooling2D, GlobalMaxPooling2D,Dropout\n",
        "from keras.models import Model, load_model\n",
        "from keras.preprocessing import image\n",
        "from IPython.display import SVG\n",
        "from keras.utils.vis_utils import model_to_dot\n",
        "from keras.utils import plot_model\n",
        "from keras.initializers import glorot_uniform\n",
        "import scipy.misc\n",
        "from matplotlib.pyplot import imshow\n",
        "%matplotlib inline\n",
        "import tensorflow as tf\n",
        "import keras.backend as K\n",
        "from keras.utils import layer_utils\n",
        "from keras.utils.data_utils import get_file\n",
        "from keras.applications.imagenet_utils import preprocess_input\n",
        "import pydot\n",
        "import keras \n",
        "import matplotlib.pyplot as plt\n",
        "from keras.datasets import cifar10\n",
        "from keras.regularizers import l1\n",
        "import os\n",
        "import time\n",
        "from time import time\n",
        "\n",
        "def plot_learningCurve(history,num_epoch):\n",
        "  # Plot training & validation accuracy values\n",
        "  epoch_range = np.arange(1,num_epoch+1)\n",
        "  plt.plot(epoch_range, history.history['acc'])\n",
        "  plt.plot(epoch_range, history.history['val_acc'])\n",
        "  plt.title('Model accuracy')\n",
        "  plt.ylabel('Accuracy')\n",
        "  plt.xlabel('Epoch')\n",
        "  plt.legend(['Train', 'Val'], loc='upper left')\n",
        "  plt.show()\n",
        "\n",
        "  # Plot training & validation loss values\n",
        "  plt.plot(epoch_range, history.history['loss'])\n",
        "  plt.plot(epoch_range, history.history['val_loss'])\n",
        "  plt.title('Model loss')\n",
        "  plt.ylabel('Loss')\n",
        "  plt.xlabel('Epoch')\n",
        "  plt.legend(['Train', 'Val'], loc='upper left')\n",
        "  plt.show()\n",
        "\n",
        "save_dir='/model/resnet'"
      ],
      "execution_count": 0,
      "outputs": [
        {
          "output_type": "stream",
          "text": [
            "Using TensorFlow backend.\n"
          ],
          "name": "stderr"
        },
        {
          "output_type": "display_data",
          "data": {
            "text/html": [
              "<p style=\"color: red;\">\n",
              "The default version of TensorFlow in Colab will soon switch to TensorFlow 2.x.<br>\n",
              "We recommend you <a href=\"https://www.tensorflow.org/guide/migrate\" target=\"_blank\">upgrade</a> now \n",
              "or ensure your notebook will continue to use TensorFlow 1.x via the <code>%tensorflow_version 1.x</code> magic:\n",
              "<a href=\"https://colab.research.google.com/notebooks/tensorflow_version.ipynb\" target=\"_blank\">more info</a>.</p>\n"
            ],
            "text/plain": [
              "<IPython.core.display.HTML object>"
            ]
          },
          "metadata": {
            "tags": []
          }
        }
      ]
    },
    {
      "cell_type": "markdown",
      "metadata": {
        "id": "GaqVr_T03XrW",
        "colab_type": "text"
      },
      "source": [
        "## Note on Conv2D\n",
        "\n",
        "In order to implement the convolutional layers, we use the Keras implementation of Conv2D. However, in all cases, you are required to use a specific kernel initializer so that the results are predictable ( random initialization of convolutional kernel would result in unpredictable ).\n",
        "\n",
        "As such, please use the following Conv2D: \n",
        "\n",
        "Conv2D(filters=f, kernel_size=(k, k), strides=(s, s), padding=pad_type, kernel_initializer=keras.initializers.glorot_uniform(seed=0))(X)\n",
        "\n",
        "In which f,k and s denote the size of filter,kernel and stride. Pad_type denoted the padding type which can be either \"same\" or \"valid\". "
      ]
    },
    {
      "cell_type": "markdown",
      "metadata": {
        "id": "7eA51suF12fn",
        "colab_type": "text"
      },
      "source": [
        "##Implementing the Identity Block \n",
        "\n",
        "We discussed the identity block in the homework description. Here we provide the details of the components that you should use to implement it. \n",
        "\n",
        "The following represents the components: \n",
        "\n",
        "First component of main path: \n",
        "- The first CONV2D has $F_1$ filters of shape (1,1) and a stride of (1,1). Its padding is \"valid\". Use 0 as the seed for the random initialization. \n",
        "- The first BatchNorm is normalizing the channels axis. No particular argument needs to be passed.\n",
        "- Then apply the ReLU activation function. This has no hyperparameters. \n",
        "\n",
        "Second component of main path:\n",
        "- The second CONV2D has $F_2$ filters of shape $(f,f)$ and a stride of (1,1). Its padding is \"same\". Use 0 as the seed for the random initialization. \n",
        "- The second BatchNorm is normalizing the channels axis. No particular argument needs to be passed.\n",
        "- Then apply the ReLU activation function. This has no hyperparameters\n",
        "\n",
        "Third component of main path:\n",
        "- The third CONV2D has $F_3$ filters of shape (1,1) and a stride of (1,1). Its padding is \"valid\". Use 0 as the seed for the random initialization. \n",
        "- The third BatchNorm is normalizing the channels axis. No particular argument needs to be passed. \n",
        "- Then apply the ReLU activation function. This has no hyperparameters\n",
        "\n",
        "Final step: \n",
        "- The shortcut and the input are added together.\n",
        "- Then apply the ReLU activation function. This has no hyperparameters\n",
        "\n",
        "Useful links:\n",
        "\n",
        "- [Conv](https://keras.io/layers/convolutional/#conv2d)\n",
        "- [BatchNorm](https://keras.io/layers/normalization/#batchnormalization)\n",
        "- For the activation, use:  `Activation('relu')(X)`\n",
        "- [Addition](https://keras.io/layers/merge/#add)\n",
        "\n"
      ]
    },
    {
      "cell_type": "code",
      "metadata": {
        "id": "kJc-hKMN3k4P",
        "colab_type": "code",
        "colab": {}
      },
      "source": [
        "def identity_block(X, f, filters):\n",
        "    \"\"\"\n",
        "    Implementation of the identity block as defined in Figure 4 of homework\n",
        "\n",
        "    Arguments:\n",
        "    X -- input tensor of shape (m, n_H_prev, n_W_prev, n_C_prev)\n",
        "    f -- integer, specifying the shape of the middle CONV's window for the main path\n",
        "    filters -- python list of integers, defining the number of filters in the CONV layers of the main path (e.g. [2,4,16])\n",
        "    block -- string/character, used to name the layers, depending on their position in the network\n",
        "\n",
        "    Returns:\n",
        "    X -- output of the identity block, tensor of shape (n_H, n_W, n_C)\n",
        "    \"\"\"\n",
        "\n",
        "    # Retrieve Filters\n",
        "    F1 = filters[0]\n",
        "    F2 = filters[1]\n",
        "    F3 = filters[2]\n",
        "\n",
        "    # Save the input value. You'll need this later to add back to the main path. \n",
        "    X_saved = X\n",
        "\n",
        "    # First component of main path\n",
        "    X = Conv2D(filters=F1, kernel_size=(1, 1), strides=(1, 1), padding=\"valid\", \n",
        "           kernel_initializer=keras.initializers.glorot_uniform(seed=0))(X)\n",
        "    X = BatchNormalization()(X)\n",
        "    X = Activation('relu')(X)\n",
        "\n",
        "    # Second component of main path (≈3 lines)\n",
        "    X = Conv2D(filters=F2, kernel_size=(f, f), strides=(1, 1), padding=\"same\", \n",
        "           kernel_initializer=keras.initializers.glorot_uniform(seed=0))(X)\n",
        "    X = BatchNormalization()(X)\n",
        "    X = Activation('relu')(X)\n",
        "\n",
        "    # Third component of main path (≈2 lines)\n",
        "    X = Conv2D(filters=F3, kernel_size=(1, 1), strides=(1, 1), padding=\"valid\", \n",
        "           kernel_initializer=keras.initializers.glorot_uniform(seed=0))(X)\n",
        "    X = BatchNormalization()(X)\n",
        "\n",
        "    # Final step: Add shortcut value to main path, and pass it through a RELU activation (≈2 lines)\n",
        "    X = Add() ([X, X_saved])\n",
        "    X = Activation('relu')(X)\n",
        "\n",
        "    return X"
      ],
      "execution_count": 0,
      "outputs": []
    },
    {
      "cell_type": "markdown",
      "metadata": {
        "id": "8jSnfAHX8cUH",
        "colab_type": "text"
      },
      "source": [
        "##Testing the Identity Block\n",
        "\n",
        "Simply run the code in the following block and report the result that is generated in your homework report. "
      ]
    },
    {
      "cell_type": "code",
      "metadata": {
        "id": "ikDdEFha3k4R",
        "colab_type": "code",
        "outputId": "0ea9ef22-51f0-40b3-98ab-262e39d6a6a9",
        "colab": {
          "base_uri": "https://localhost:8080/",
          "height": 51
        }
      },
      "source": [
        "tf.reset_default_graph()\n",
        "\n",
        "with tf.Session() as test:\n",
        "    np.random.seed(1)\n",
        "    A_prev = tf.placeholder(\"float\", [4, 4, 4, 8])\n",
        "    X = np.random.randn(4,4,4,8)\n",
        "    A = identity_block(A_prev, f=2, filters=[2, 4, 8])\n",
        "    test.run(tf.global_variables_initializer())\n",
        "    res = test.run([A], feed_dict={A_prev: X})\n",
        "    print('Result = {}'.format(res[0][1][1][0]))\n"
      ],
      "execution_count": 0,
      "outputs": [
        {
          "output_type": "stream",
          "text": [
            "Result = [0.8278597  0.10646105 2.1855583  0.56990707 0.         1.6353136\n",
            " 1.454914   1.1312441 ]\n"
          ],
          "name": "stdout"
        }
      ]
    },
    {
      "cell_type": "markdown",
      "metadata": {
        "id": "qQbD_ipW-06u",
        "colab_type": "text"
      },
      "source": [
        "##Implementing the Convolutional Block \n",
        "\n",
        "We discussed the convolutional block in the homework description. Here we provide the details of the components that you should use to implement it. \n",
        "\n",
        "The following represents the components: \n",
        "\n",
        "First component of main path:\n",
        "- The first CONV2D has $F_1$ filters of shape (1,1) and a stride of (s,s). Its padding is \"valid\". \n",
        "- The first BatchNorm is normalizing the channels axis. No particular argument needs to be passed.\n",
        "- Then apply the ReLU activation function. This has no hyperparameters. \n",
        "\n",
        "Second component of main path:\n",
        "- The second CONV2D has $F_2$ filters of (f,f) and a stride of (1,1). Its padding is \"same\".\n",
        "- The second BatchNorm is normalizing the channels axis. No particular argument needs to be passed.\n",
        "- Then apply the ReLU activation function. This has no hyperparameters. \n",
        "\n",
        "Third component of main path:\n",
        "- The third CONV2D has $F_3$ filters of (1,1) and a stride of (1,1). Its padding is \"valid\".\n",
        "- The third BatchNorm is normalizing the channels axis. No particular argument needs to be passed. Note that there is no ReLU activation function in this component. \n",
        "\n",
        "Shortcut path:\n",
        "- The CONV2D has $F_3$ filters of shape (1,1) and a stride of (s,s). Its padding is \"valid\".\n",
        "- The BatchNorm is normalizing the channels axis. BatchNorm is normalizing the channels axis. No particular argument needs to be passed\n",
        "\n",
        "Final step: \n",
        "- The shortcut and the main path values are added together.\n",
        "- Then apply the ReLU activation function. This has no name and no hyperparameters. \n",
        "\n",
        "Useful links:\n",
        "\n",
        "- [Conv](https://keras.io/layers/convolutional/#conv2d)\n",
        "- [BatchNorm](https://keras.io/layers/normalization/#batchnormalization)\n",
        "- For the activation, use:  `Activation('relu')(X)`\n",
        "- [Addition](https://keras.io/layers/merge/#add)"
      ]
    },
    {
      "cell_type": "code",
      "metadata": {
        "id": "WTTaFuRa3k4V",
        "colab_type": "code",
        "colab": {}
      },
      "source": [
        "def convolutional_block(X, f, filters,stride=2):\n",
        "    \"\"\"\n",
        "    Implementation of the convolutional block as defined in Figure 5 of homework\n",
        "\n",
        "    Arguments:\n",
        "    X -- input tensor of shape (m, n_H_prev, n_W_prev, n_C_prev)\n",
        "    f -- integer, specifying the shape of the middle CONV's window for the main path\n",
        "    filters -- python list of integers, defining the number of filters in the CONV layers of the main path (e.g. [2,4,16])\n",
        "    stride -- Integer, specifying the stride to be used\n",
        "\n",
        "    Returns:\n",
        "    X -- output of the convolutional block, tensor of shape (n_H, n_W, n_C)\n",
        "    \"\"\"\n",
        "\n",
        "    # Retrieve Filters\n",
        "    F1 = filters[0]\n",
        "    F2 = filters[1]\n",
        "    F3 = filters[2]\n",
        "\n",
        "    # Save the input value\n",
        "    X_saved = X\n",
        "\n",
        "    # First component of main path \n",
        "    X = Conv2D(filters=F1, kernel_size=(1, 1), strides=(stride, stride), padding=\"valid\", \n",
        "           kernel_initializer=keras.initializers.glorot_uniform(seed=0))(X)\n",
        "    X = BatchNormalization()(X)\n",
        "    X = Activation('relu')(X)\n",
        "\n",
        "    # Second component of main path (≈3 lines)\n",
        "    X = Conv2D(filters=F2, kernel_size=(f, f), strides=(1, 1), padding=\"same\", \n",
        "           kernel_initializer=keras.initializers.glorot_uniform(seed=0))(X)\n",
        "    X = BatchNormalization()(X)\n",
        "    X = Activation('relu')(X)\n",
        "\n",
        "    # Third component of main path (≈2 lines)\n",
        "    X = Conv2D(filters=F3, kernel_size=(1, 1), strides=(1, 1), padding=\"valid\", \n",
        "           kernel_initializer=keras.initializers.glorot_uniform(seed=0))(X)\n",
        "    X = BatchNormalization()(X)\n",
        "    \n",
        "    ##### SHORTCUT PATH #### (≈2 lines)\n",
        "    X_saved = Conv2D(filters=F3, kernel_size=(1, 1), strides=(stride, stride), padding=\"valid\", \n",
        "           kernel_initializer=keras.initializers.glorot_uniform(seed=0))(X_saved)\n",
        "    X_saved = BatchNormalization()(X_saved)\n",
        "    \n",
        "\n",
        "    # Final step: Add shortcut value to main path, and pass it through a RELU activation (≈2 lines)\n",
        "    X = Add() ([X, X_saved])\n",
        "    X = Activation('relu')(X)\n",
        "\n",
        "    return X\n"
      ],
      "execution_count": 0,
      "outputs": []
    },
    {
      "cell_type": "markdown",
      "metadata": {
        "id": "oGITZoKUDBTs",
        "colab_type": "text"
      },
      "source": [
        "##Testing the Convolutional Block\n",
        "\n",
        "Simply run the code in the following block and report the result that is generated in your homework report. "
      ]
    },
    {
      "cell_type": "code",
      "metadata": {
        "id": "hQQAH8UM3k4X",
        "colab_type": "code",
        "outputId": "ffc5c7b0-e97f-44df-955f-fe42221b2bc0",
        "colab": {
          "base_uri": "https://localhost:8080/",
          "height": 51
        }
      },
      "source": [
        "tf.reset_default_graph()\n",
        "\n",
        "with tf.Session() as test:\n",
        "    np.random.seed(1)\n",
        "    A_prev = tf.placeholder(\"float\", [4, 4, 4, 8])\n",
        "    X = np.random.randn(4,4,4,8)\n",
        "    A = convolutional_block(A_prev, f=2, filters=[2, 4, 8])\n",
        "    test.run(tf.global_variables_initializer())\n",
        "    res = test.run([A], feed_dict={A_prev: X})\n",
        "    print('Result = {}'.format(res[0][1][1][0]))"
      ],
      "execution_count": 0,
      "outputs": [
        {
          "output_type": "stream",
          "text": [
            "Result = [0.        1.3407363 1.4184607 0.        0.        2.2878466 0.8547394\n",
            " 0.5266884]\n"
          ],
          "name": "stdout"
        }
      ]
    },
    {
      "cell_type": "markdown",
      "metadata": {
        "id": "FjLuQmAOFAgm",
        "colab_type": "text"
      },
      "source": [
        "##Implementing ResNet \n",
        "\n",
        "We discussed the ResNet architecture in the homework description ( see Figure 6 ). Here we provide further details you should use to implement it.\n",
        "The following represents ResNet components: \n",
        "\n",
        "- Zero-padding pads the input with a pad of (3,3)\n",
        "- Stage 1:\n",
        "    - The 2D Convolution has 64 filters of shape (7,7) and uses a stride of (2,2).\n",
        "    - BatchNorm is applied to the channels axis of the input.\n",
        "    - MaxPooling uses a (3,3) window and a (2,2) stride.\n",
        "- Stage 2:\n",
        "    - The convolutional block uses three set of filters of size [64,64,256], \"f\" is 3, \"s\" is 1.\n",
        "    - The 2 identity blocks use three set of filters of size [64,64,256], \"f\" is 3.\n",
        "- Stage 3:\n",
        "    - The convolutional block uses three set of filters of size [128,128,512], \"f\" is 3, \"s\" is 2.\n",
        "    - The 3 identity blocks use three set of filters of size [128,128,512], \"f\" is 3.\n",
        "- Stage 4:\n",
        "    - The convolutional block uses three set of filters of size [256, 256, 1024], \"f\" is 3, \"s\" is 2.\n",
        "    - The 5 identity blocks use three set of filters of size [256, 256, 1024], \"f\" is 3.\n",
        "- Stage 5:\n",
        "    - The convolutional block uses three set of filters of size [512, 512, 2048], \"f\" is 3, \"s\" is 2.\n",
        "    - The 2 identity blocks use three set of filters of size [256, 256, 2048], \"f\" is 3.\n",
        "- The 2D Average Pooling uses a window of shape (2,2).\n",
        "- The flatten doesn't have any hyperparameters.\n",
        "- The Fully Connected (Dense) layer reduces its input to the number of classes using a softmax activation.\n",
        "\n",
        "Useful links:\n",
        "\n",
        "- [Conv](https://keras.io/layers/convolutional/#conv2d)\n",
        "- [BatchNorm](https://keras.io/layers/normalization/#batchnormalization)\n",
        "- For the activation, use:  `Activation('relu')(X)`\n",
        "- [Addition](https://keras.io/layers/merge/#add)\n",
        "- [Average pooling](https://keras.io/layers/pooling/#averagepooling2d)\n",
        "- [Max pooling](https://keras.io/layers/pooling/#maxpooling2d)\n",
        "- [Zero padding](https://keras.io/layers/convolutional/#zeropadding2d)\n",
        "\n"
      ]
    },
    {
      "cell_type": "code",
      "metadata": {
        "id": "ZHfdszLr3k4b",
        "colab_type": "code",
        "outputId": "12c401da-8518-4d7d-c4c3-75f3cc23c78d",
        "colab": {
          "base_uri": "https://localhost:8080/",
          "height": 105
        }
      },
      "source": [
        "def ResNet(input_shape=(32, 32, 3), classes=10):\n",
        "    \"\"\"\n",
        "    Implementation of the popular ResNet50 the following architecture:\n",
        "    CONV2D -> BATCHNORM -> RELU -> MAXPOOL -> CONVBLOCK -> IDBLOCK*2 -> CONVBLOCK -> IDBLOCK*3\n",
        "    -> CONVBLOCK -> IDBLOCK*5 -> CONVBLOCK -> IDBLOCK*2 -> AVGPOOL -> TOPLAYER\n",
        "\n",
        "    Arguments:\n",
        "    input_shape -- shape of the images of the dataset\n",
        "    classes -- integer, number of classes\n",
        "\n",
        "    Returns:\n",
        "    model -- a Model() instance in Keras\n",
        "    \"\"\"\n",
        "\n",
        "    # Define the input as a tensor with shape input_shape\n",
        "    X_input = Input(input_shape)\n",
        "\n",
        "    # Zero-Padding\n",
        "    X = ZeroPadding2D(padding=(3, 3))(X_input)\n",
        "\n",
        "    # Stage 1\n",
        "    X = Conv2D(filters=64, kernel_size=(7, 7), strides=(2, 2), \n",
        "           kernel_initializer=keras.initializers.glorot_uniform(seed=0))(X)\n",
        "    X = BatchNormalization()(X)\n",
        "    X = MaxPooling2D(pool_size=(3, 3), strides=(2, 2))(X)\n",
        "   \n",
        "    # Stage 2\n",
        "    X = convolutional_block(X, 3, [64, 64, 256], 1)\n",
        "    X = identity_block(X, 3, [64, 64, 256])\n",
        "    X = identity_block(X, 3, [64, 64, 256])\n",
        "\n",
        "    # Stage 3 (≈4 lines)\n",
        "    X = convolutional_block(X, 3, [128, 128, 512], 2)\n",
        "    X = identity_block(X, 3, [128, 128, 512])\n",
        "    X = identity_block(X, 3, [128, 128, 512])\n",
        "    X = identity_block(X, 3, [128, 128, 512])\n",
        "\n",
        "    # Stage 4 (≈6 lines)\n",
        "    X = convolutional_block(X, 3, [256, 256, 1024], 2)\n",
        "    X = identity_block(X, 3, [256, 256, 1024])\n",
        "    X = identity_block(X, 3, [256, 256, 1024])\n",
        "    X = identity_block(X, 3, [256, 256, 1024])\n",
        "    X = identity_block(X, 3, [256, 256, 1024])\n",
        "    X = identity_block(X, 3, [256, 256, 1024])\n",
        "    \n",
        "    # Stage 5 (≈3 lines)\n",
        "    X = convolutional_block(X, 3, [512, 512, 2048], 2)\n",
        "    X = identity_block(X, 3, [512, 512, 2048])\n",
        "    X = identity_block(X, 3, [512, 512, 2048])\n",
        "\n",
        "    # AVGPOOL (≈1 line)\n",
        "    X = AveragePooling2D(pool_size=(2, 2), padding=\"same\")(X)\n",
        "\n",
        "\n",
        "    # output layer\n",
        "    X = Flatten()(X)\n",
        "    X = Dense(classes, activation = \"softmax\")(X)\n",
        "    #X = Activation(\"softmax\")(X)\n",
        "\n",
        "    # Create model\n",
        "    model = Model(inputs=X_input, outputs=X, name='ResNe')\n",
        "\n",
        "    return model\n",
        "\n",
        "model = ResNet(input_shape=(32, 32, 3), classes=10)"
      ],
      "execution_count": 0,
      "outputs": [
        {
          "output_type": "stream",
          "text": [
            "WARNING:tensorflow:From /usr/local/lib/python3.6/dist-packages/keras/backend/tensorflow_backend.py:4267: The name tf.nn.max_pool is deprecated. Please use tf.nn.max_pool2d instead.\n",
            "\n",
            "WARNING:tensorflow:From /usr/local/lib/python3.6/dist-packages/keras/backend/tensorflow_backend.py:4271: The name tf.nn.avg_pool is deprecated. Please use tf.nn.avg_pool2d instead.\n",
            "\n"
          ],
          "name": "stdout"
        }
      ]
    },
    {
      "cell_type": "markdown",
      "metadata": {
        "id": "Hi4WfiGnI6e1",
        "colab_type": "text"
      },
      "source": [
        "##CIFAR10 Dataset\n",
        "\n",
        "Simply run the following code block to download and preprocess the CIFAR10 dataset. We also use online data-augmentation to improve the results. "
      ]
    },
    {
      "cell_type": "code",
      "metadata": {
        "id": "dgUU9chm3k4f",
        "colab_type": "code",
        "outputId": "cb90e716-fe89-4759-8258-cdbae0a4f826",
        "colab": {
          "base_uri": "https://localhost:8080/",
          "height": 102
        }
      },
      "source": [
        "(x_train, y_train), (x_test, y_test) = cifar10.load_data()\n",
        "print('x_train shape:', x_train.shape)\n",
        "print(x_train.shape[0], 'train samples')\n",
        "print(x_test.shape[0], 'test samples')\n",
        "num_classes = 10\n",
        "# Convert class vectors to binary class matrices.\n",
        "y_train = keras.utils.to_categorical(y_train, num_classes)\n",
        "y_test = keras.utils.to_categorical(y_test, num_classes)\n",
        "x_train = x_train.astype('float32')\n",
        "x_test = x_test.astype('float32')\n",
        "x_train /= 255\n",
        "x_test /= 255\n",
        "\n",
        "datagen = ImageDataGenerator(\n",
        "        featurewise_center=False,  # set input mean to 0 over the dataset\n",
        "        samplewise_center=False,  # set each sample mean to 0\n",
        "        featurewise_std_normalization=False,  # divide inputs by std of the dataset\n",
        "        samplewise_std_normalization=False,  # divide each input by its std\n",
        "        zca_whitening=False,  # apply ZCA whitening\n",
        "        zca_epsilon=1e-06,  # epsilon for ZCA whitening\n",
        "        rotation_range=0,  # randomly rotate images in the range (degrees, 0 to 180)\n",
        "        # randomly shift images horizontally (fraction of total width)\n",
        "        width_shift_range=0.1,\n",
        "        # randomly shift images vertically (fraction of total height)\n",
        "        height_shift_range=0.1,\n",
        "        shear_range=0.,  # set range for random shear\n",
        "        zoom_range=0.,  # set range for random zoom\n",
        "        channel_shift_range=0.,  # set range for random channel shifts\n",
        "        # set mode for filling points outside the input boundaries\n",
        "        fill_mode='nearest',\n",
        "        cval=0.,  # value used for fill_mode = \"constant\"\n",
        "        horizontal_flip=True,  # randomly flip images\n",
        "        vertical_flip=True,  # randomly flip images\n",
        "        # set rescaling factor (applied before any other transformation)\n",
        "        rescale=None,\n",
        "        # set function that will be applied on each input\n",
        "        preprocessing_function=None,\n",
        "        # image data format, either \"channels_first\" or \"channels_last\"\n",
        "        data_format=None,\n",
        "        # fraction of images reserved for validation (strictly between 0 and 1)\n",
        "        validation_split=0.0)\n",
        "\n",
        "datagen.fit(x_train)\n"
      ],
      "execution_count": 0,
      "outputs": [
        {
          "output_type": "stream",
          "text": [
            "Downloading data from https://www.cs.toronto.edu/~kriz/cifar-10-python.tar.gz\n",
            "170500096/170498071 [==============================] - 6s 0us/step\n",
            "x_train shape: (50000, 32, 32, 3)\n",
            "50000 train samples\n",
            "10000 test samples\n"
          ],
          "name": "stdout"
        }
      ]
    },
    {
      "cell_type": "markdown",
      "metadata": {
        "id": "0N36L7P9J1UA",
        "colab_type": "text"
      },
      "source": [
        "##Compile the Model\n",
        "\n",
        "The following block sets the required hyper-parameters, complies the model starts the process of training and at the end saves the trained model. \n",
        "\n",
        "You can use your own hyper-parameters, but these have been tested to work properly.\n",
        "\n",
        "Note that we require you to report the accuracy for models that have been trained for 50 epochs. "
      ]
    },
    {
      "cell_type": "code",
      "metadata": {
        "id": "yf9YlI_LWjfW",
        "colab_type": "code",
        "outputId": "6f2e12d8-b691-4a76-940f-349c477eaf63",
        "colab": {
          "base_uri": "https://localhost:8080/",
          "height": 1000
        }
      },
      "source": [
        "batch_size = 2048\n",
        "epochs = 50\n",
        "data_augmentation = True\n",
        "learning_rate=0.001\n",
        "\n",
        "opt = keras.optimizers.adam(lr=learning_rate, decay=1e-6)\n",
        "model.compile(loss='categorical_crossentropy',optimizer=opt,metrics=['accuracy'])\n",
        "t1=time()\n",
        "history =model.fit_generator(datagen.flow(x_train, y_train,\n",
        "                    batch_size=batch_size),\n",
        "                    epochs=epochs,\n",
        "                    validation_data=(x_test, y_test),\n",
        "                    workers=4)\n",
        "print('Training time is {} s'.format(time()-t1))\n",
        "if not os.path.isdir(save_dir):\n",
        "    os.makedirs(save_dir)\n",
        "\n",
        "model_name='resnet'\n",
        "model_path = os.path.join(save_dir, model_name)\n",
        "model.save(model_path)\n",
        "print('Saved trained model at %s ' % model_path)"
      ],
      "execution_count": 0,
      "outputs": [
        {
          "output_type": "stream",
          "text": [
            "WARNING:tensorflow:From /usr/local/lib/python3.6/dist-packages/keras/optimizers.py:793: The name tf.train.Optimizer is deprecated. Please use tf.compat.v1.train.Optimizer instead.\n",
            "\n",
            "WARNING:tensorflow:From /usr/local/lib/python3.6/dist-packages/keras/backend/tensorflow_backend.py:3576: The name tf.log is deprecated. Please use tf.math.log instead.\n",
            "\n",
            "WARNING:tensorflow:From /usr/local/lib/python3.6/dist-packages/tensorflow_core/python/ops/math_grad.py:1424: where (from tensorflow.python.ops.array_ops) is deprecated and will be removed in a future version.\n",
            "Instructions for updating:\n",
            "Use tf.where in 2.0, which has the same broadcast rule as np.where\n",
            "WARNING:tensorflow:From /usr/local/lib/python3.6/dist-packages/keras/backend/tensorflow_backend.py:1033: The name tf.assign_add is deprecated. Please use tf.compat.v1.assign_add instead.\n",
            "\n",
            "WARNING:tensorflow:From /usr/local/lib/python3.6/dist-packages/keras/backend/tensorflow_backend.py:1020: The name tf.assign is deprecated. Please use tf.compat.v1.assign instead.\n",
            "\n",
            "Epoch 1/50\n",
            "WARNING:tensorflow:From /usr/local/lib/python3.6/dist-packages/keras/backend/tensorflow_backend.py:197: The name tf.ConfigProto is deprecated. Please use tf.compat.v1.ConfigProto instead.\n",
            "\n",
            "25/25 [==============================] - 51s 2s/step - loss: 2.4888 - acc: 0.2262 - val_loss: 4.3082 - val_acc: 0.1721\n",
            "Epoch 2/50\n",
            "25/25 [==============================] - 32s 1s/step - loss: 1.8040 - acc: 0.3503 - val_loss: 2.5268 - val_acc: 0.2155\n",
            "Epoch 3/50\n",
            "25/25 [==============================] - 34s 1s/step - loss: 1.6057 - acc: 0.4163 - val_loss: 2.2497 - val_acc: 0.2388\n",
            "Epoch 4/50\n",
            "25/25 [==============================] - 34s 1s/step - loss: 1.4934 - acc: 0.4548 - val_loss: 1.8409 - val_acc: 0.3703\n",
            "Epoch 5/50\n",
            "25/25 [==============================] - 34s 1s/step - loss: 1.4147 - acc: 0.4870 - val_loss: 1.5677 - val_acc: 0.4281\n",
            "Epoch 6/50\n",
            "25/25 [==============================] - 35s 1s/step - loss: 1.5077 - acc: 0.4548 - val_loss: 14.5063 - val_acc: 0.1000\n",
            "Epoch 7/50\n",
            "25/25 [==============================] - 34s 1s/step - loss: 1.6157 - acc: 0.4250 - val_loss: 14.5063 - val_acc: 0.1000\n",
            "Epoch 8/50\n",
            "25/25 [==============================] - 34s 1s/step - loss: 1.4542 - acc: 0.4799 - val_loss: 14.4746 - val_acc: 0.1001\n",
            "Epoch 9/50\n",
            "25/25 [==============================] - 34s 1s/step - loss: 1.3669 - acc: 0.5089 - val_loss: 3.4110 - val_acc: 0.1949\n",
            "Epoch 10/50\n",
            "25/25 [==============================] - 34s 1s/step - loss: 1.3047 - acc: 0.5302 - val_loss: 1.9546 - val_acc: 0.3161\n",
            "Epoch 11/50\n",
            "25/25 [==============================] - 35s 1s/step - loss: 1.2623 - acc: 0.5452 - val_loss: 2.2463 - val_acc: 0.2847\n",
            "Epoch 12/50\n",
            "25/25 [==============================] - 34s 1s/step - loss: 1.2168 - acc: 0.5640 - val_loss: 1.6249 - val_acc: 0.4202\n",
            "Epoch 13/50\n",
            "25/25 [==============================] - 34s 1s/step - loss: 1.1859 - acc: 0.5747 - val_loss: 1.4874 - val_acc: 0.4724\n",
            "Epoch 14/50\n",
            "25/25 [==============================] - 34s 1s/step - loss: 1.1421 - acc: 0.5873 - val_loss: 1.4777 - val_acc: 0.4889\n",
            "Epoch 15/50\n",
            "25/25 [==============================] - 34s 1s/step - loss: 1.1151 - acc: 0.5988 - val_loss: 1.4344 - val_acc: 0.5090\n",
            "Epoch 16/50\n",
            "25/25 [==============================] - 35s 1s/step - loss: 1.0884 - acc: 0.6105 - val_loss: 1.4086 - val_acc: 0.5095\n",
            "Epoch 17/50\n",
            "25/25 [==============================] - 34s 1s/step - loss: 1.0627 - acc: 0.6197 - val_loss: 1.2003 - val_acc: 0.5688\n",
            "Epoch 18/50\n",
            "25/25 [==============================] - 35s 1s/step - loss: 1.0329 - acc: 0.6293 - val_loss: 1.2463 - val_acc: 0.5608\n",
            "Epoch 19/50\n",
            "25/25 [==============================] - 34s 1s/step - loss: 1.0306 - acc: 0.6317 - val_loss: 1.1449 - val_acc: 0.5990\n",
            "Epoch 20/50\n",
            "25/25 [==============================] - 34s 1s/step - loss: 0.9978 - acc: 0.6422 - val_loss: 1.2259 - val_acc: 0.5778\n",
            "Epoch 21/50\n",
            "25/25 [==============================] - 34s 1s/step - loss: 0.9817 - acc: 0.6464 - val_loss: 1.3190 - val_acc: 0.5668\n",
            "Epoch 22/50\n",
            "25/25 [==============================] - 34s 1s/step - loss: 0.9579 - acc: 0.6567 - val_loss: 1.2864 - val_acc: 0.5561\n",
            "Epoch 23/50\n",
            "25/25 [==============================] - 34s 1s/step - loss: 0.9446 - acc: 0.6628 - val_loss: 1.0667 - val_acc: 0.6225\n",
            "Epoch 24/50\n",
            "25/25 [==============================] - 34s 1s/step - loss: 0.9295 - acc: 0.6677 - val_loss: 1.1150 - val_acc: 0.6211\n",
            "Epoch 25/50\n",
            "25/25 [==============================] - 34s 1s/step - loss: 0.9034 - acc: 0.6787 - val_loss: 1.0912 - val_acc: 0.6094\n",
            "Epoch 26/50\n",
            "25/25 [==============================] - 34s 1s/step - loss: 0.8952 - acc: 0.6807 - val_loss: 1.0975 - val_acc: 0.6169\n",
            "Epoch 27/50\n",
            "25/25 [==============================] - 34s 1s/step - loss: 0.8879 - acc: 0.6849 - val_loss: 1.1625 - val_acc: 0.6015\n",
            "Epoch 28/50\n",
            "25/25 [==============================] - 34s 1s/step - loss: 0.8755 - acc: 0.6874 - val_loss: 1.5698 - val_acc: 0.5131\n",
            "Epoch 29/50\n",
            "25/25 [==============================] - 34s 1s/step - loss: 0.8524 - acc: 0.6943 - val_loss: 1.1185 - val_acc: 0.6172\n",
            "Epoch 30/50\n",
            "25/25 [==============================] - 34s 1s/step - loss: 0.8409 - acc: 0.7016 - val_loss: 1.0634 - val_acc: 0.6369\n",
            "Epoch 31/50\n",
            "25/25 [==============================] - 33s 1s/step - loss: 0.8160 - acc: 0.7071 - val_loss: 1.0442 - val_acc: 0.6385\n",
            "Epoch 32/50\n",
            "25/25 [==============================] - 33s 1s/step - loss: 0.7981 - acc: 0.7179 - val_loss: 0.9024 - val_acc: 0.6825\n",
            "Epoch 33/50\n",
            "25/25 [==============================] - 33s 1s/step - loss: 0.7768 - acc: 0.7229 - val_loss: 0.9786 - val_acc: 0.6622\n",
            "Epoch 34/50\n",
            "25/25 [==============================] - 33s 1s/step - loss: 0.7691 - acc: 0.7280 - val_loss: 1.0477 - val_acc: 0.6469\n",
            "Epoch 35/50\n",
            "25/25 [==============================] - 33s 1s/step - loss: 0.7602 - acc: 0.7300 - val_loss: 1.1331 - val_acc: 0.6220\n",
            "Epoch 36/50\n",
            "25/25 [==============================] - 34s 1s/step - loss: 0.7505 - acc: 0.7337 - val_loss: 1.2632 - val_acc: 0.5851\n",
            "Epoch 37/50\n",
            "25/25 [==============================] - 33s 1s/step - loss: 0.7331 - acc: 0.7390 - val_loss: 0.9473 - val_acc: 0.6700\n",
            "Epoch 38/50\n",
            "25/25 [==============================] - 34s 1s/step - loss: 0.7153 - acc: 0.7445 - val_loss: 0.9941 - val_acc: 0.6623\n",
            "Epoch 39/50\n",
            "25/25 [==============================] - 34s 1s/step - loss: 0.7554 - acc: 0.7322 - val_loss: 14.4417 - val_acc: 0.1001\n",
            "Epoch 40/50\n",
            "25/25 [==============================] - 33s 1s/step - loss: 0.8400 - acc: 0.7045 - val_loss: 2.3232 - val_acc: 0.3534\n",
            "Epoch 41/50\n",
            "25/25 [==============================] - 34s 1s/step - loss: 0.7518 - acc: 0.7336 - val_loss: 1.1313 - val_acc: 0.6218\n",
            "Epoch 42/50\n",
            "25/25 [==============================] - 34s 1s/step - loss: 0.7191 - acc: 0.7449 - val_loss: 1.0427 - val_acc: 0.6341\n",
            "Epoch 43/50\n",
            "25/25 [==============================] - 34s 1s/step - loss: 0.7176 - acc: 0.7469 - val_loss: 1.0080 - val_acc: 0.6594\n",
            "Epoch 44/50\n",
            "25/25 [==============================] - 34s 1s/step - loss: 0.6938 - acc: 0.7546 - val_loss: 1.6857 - val_acc: 0.5390\n",
            "Epoch 45/50\n",
            "25/25 [==============================] - 34s 1s/step - loss: 0.6747 - acc: 0.7604 - val_loss: 1.0504 - val_acc: 0.6635\n",
            "Epoch 46/50\n",
            "25/25 [==============================] - 34s 1s/step - loss: 0.6644 - acc: 0.7632 - val_loss: 1.2200 - val_acc: 0.5984\n",
            "Epoch 47/50\n",
            "25/25 [==============================] - 34s 1s/step - loss: 0.6857 - acc: 0.7572 - val_loss: 1.2803 - val_acc: 0.5698\n",
            "Epoch 48/50\n",
            "25/25 [==============================] - 34s 1s/step - loss: 0.6938 - acc: 0.7561 - val_loss: 1.2036 - val_acc: 0.5928\n",
            "Epoch 49/50\n",
            "25/25 [==============================] - 34s 1s/step - loss: 0.6577 - acc: 0.7687 - val_loss: 0.9687 - val_acc: 0.6745\n",
            "Epoch 50/50\n",
            "25/25 [==============================] - 34s 1s/step - loss: 0.6305 - acc: 0.7757 - val_loss: 0.9182 - val_acc: 0.6987\n",
            "Training time is 1720.6434438228607 s\n",
            "Saved trained model at /model/resnet/resnet \n"
          ],
          "name": "stdout"
        }
      ]
    },
    {
      "cell_type": "markdown",
      "metadata": {
        "id": "CuZ9pWM3KmsW",
        "colab_type": "text"
      },
      "source": [
        "##Evaluate the model\n",
        "\n",
        "Simply run the following block of code to plot accuracies on training and validation set during different training epochs and eventually get the **accuracy** of the trained model on the **testing set** of CIFAR10 dataset"
      ]
    },
    {
      "cell_type": "code",
      "metadata": {
        "id": "LgWEKQfRdIBM",
        "colab_type": "code",
        "outputId": "d5cf861b-0f55-4f0e-86b6-f31628788f5a",
        "colab": {
          "base_uri": "https://localhost:8080/",
          "height": 624
        }
      },
      "source": [
        "plot_learningCurve(history,epochs)\n",
        "\n",
        "# Evaluate trained model.\n",
        "scores = model.evaluate(x_test, y_test, verbose=1)\n",
        "print('Test loss:', scores[0])\n",
        "print('Test accuracy:', scores[1])\n"
      ],
      "execution_count": 0,
      "outputs": [
        {
          "output_type": "display_data",
          "data": {
            "image/png": "[encoded data removed]",
            "text/plain": [
              "<Figure size 432x288 with 1 Axes>"
            ]
          },
          "metadata": {
            "tags": []
          }
        },
        {
          "output_type": "display_data",
          "data": {
            "image/png": "[encoded data removed]",
            "text/plain": [
              "<Figure size 432x288 with 1 Axes>"
            ]
          },
          "metadata": {
            "tags": []
          }
        },
        {
          "output_type": "stream",
          "text": [
            "10000/10000 [==============================] - 5s 492us/step\n",
            "Test loss: 0.9181915381908416\n",
            "Test accuracy: 0.6987\n"
          ],
          "name": "stdout"
        }
      ]
    },
    {
      "cell_type": "code",
      "metadata": {
        "id": "TMeg17n2QN_a",
        "colab_type": "code",
        "outputId": "3d95489f-3e16-42d6-e0b2-3886b75cb300",
        "colab": {
          "base_uri": "https://localhost:8080/",
          "height": 1000
        }
      },
      "source": [
        "model = ResNet(input_shape=(32, 32, 3), classes=10)\n",
        "batch_size = 2048\n",
        "epochs = 100\n",
        "data_augmentation = True\n",
        "learning_rate=0.001\n",
        "\n",
        "opt = keras.optimizers.adam(lr=learning_rate, decay=1e-6)\n",
        "model.compile(loss='categorical_crossentropy',optimizer=opt,metrics=['accuracy'])\n",
        "t1=time()\n",
        "history =model.fit_generator(datagen.flow(x_train, y_train,\n",
        "                    batch_size=batch_size),\n",
        "                    epochs=epochs,\n",
        "                    validation_data=(x_test, y_test),\n",
        "                    workers=4)\n",
        "print('Training time is {} s'.format(time()-t1))\n",
        "if not os.path.isdir(save_dir):\n",
        "    os.makedirs(save_dir)\n",
        "\n",
        "model_name='resnet_cont'\n",
        "model_path = os.path.join(save_dir, model_name)\n",
        "model.save(model_path)\n",
        "print('Saved trained model at %s ' % model_path)"
      ],
      "execution_count": 0,
      "outputs": [
        {
          "output_type": "stream",
          "text": [
            "Epoch 1/100\n",
            "25/25 [==============================] - 56s 2s/step - loss: 2.4820 - acc: 0.2290 - val_loss: 4.0860 - val_acc: 0.1483\n",
            "Epoch 2/100\n",
            "25/25 [==============================] - 32s 1s/step - loss: 1.7390 - acc: 0.3600 - val_loss: 3.1259 - val_acc: 0.2242\n",
            "Epoch 3/100\n",
            "25/25 [==============================] - 34s 1s/step - loss: 1.6028 - acc: 0.4126 - val_loss: 2.0288 - val_acc: 0.3084\n",
            "Epoch 4/100\n",
            "25/25 [==============================] - 35s 1s/step - loss: 1.4919 - acc: 0.4544 - val_loss: 1.9080 - val_acc: 0.3368\n",
            "Epoch 5/100\n",
            "25/25 [==============================] - 35s 1s/step - loss: 1.4136 - acc: 0.4840 - val_loss: 2.0083 - val_acc: 0.3152\n",
            "Epoch 6/100\n",
            "25/25 [==============================] - 35s 1s/step - loss: 1.3573 - acc: 0.5071 - val_loss: 1.8012 - val_acc: 0.3500\n",
            "Epoch 7/100\n",
            "25/25 [==============================] - 35s 1s/step - loss: 1.2978 - acc: 0.5314 - val_loss: 1.7974 - val_acc: 0.3940\n",
            "Epoch 8/100\n",
            "25/25 [==============================] - 35s 1s/step - loss: 1.2407 - acc: 0.5517 - val_loss: 1.6586 - val_acc: 0.4284\n",
            "Epoch 9/100\n",
            "25/25 [==============================] - 34s 1s/step - loss: 1.1984 - acc: 0.5681 - val_loss: 1.5376 - val_acc: 0.4420\n",
            "Epoch 10/100\n",
            "25/25 [==============================] - 34s 1s/step - loss: 1.1562 - acc: 0.5813 - val_loss: 1.3340 - val_acc: 0.5234\n",
            "Epoch 11/100\n",
            "25/25 [==============================] - 35s 1s/step - loss: 1.1257 - acc: 0.5953 - val_loss: 1.4877 - val_acc: 0.4920\n",
            "Epoch 12/100\n",
            "25/25 [==============================] - 34s 1s/step - loss: 1.1052 - acc: 0.6016 - val_loss: 1.3140 - val_acc: 0.5481\n",
            "Epoch 13/100\n",
            "25/25 [==============================] - 35s 1s/step - loss: 1.0673 - acc: 0.6150 - val_loss: 1.3548 - val_acc: 0.5408\n",
            "Epoch 14/100\n",
            "25/25 [==============================] - 35s 1s/step - loss: 1.6778 - acc: 0.4190 - val_loss: 14.5063 - val_acc: 0.1000\n",
            "Epoch 15/100\n",
            "25/25 [==============================] - 34s 1s/step - loss: 1.4978 - acc: 0.4502 - val_loss: 14.5063 - val_acc: 0.1000\n",
            "Epoch 16/100\n",
            "25/25 [==============================] - 35s 1s/step - loss: 1.3496 - acc: 0.5072 - val_loss: 4.9145 - val_acc: 0.1641\n",
            "Epoch 17/100\n",
            "25/25 [==============================] - 35s 1s/step - loss: 1.2700 - acc: 0.5427 - val_loss: 1.9827 - val_acc: 0.3776\n",
            "Epoch 18/100\n",
            "25/25 [==============================] - 34s 1s/step - loss: 1.2076 - acc: 0.5631 - val_loss: 1.6421 - val_acc: 0.4202\n",
            "Epoch 19/100\n",
            "25/25 [==============================] - 34s 1s/step - loss: 1.1563 - acc: 0.5838 - val_loss: 1.5786 - val_acc: 0.4660\n",
            "Epoch 20/100\n",
            "25/25 [==============================] - 34s 1s/step - loss: 1.1011 - acc: 0.6048 - val_loss: 1.4263 - val_acc: 0.5070\n",
            "Epoch 21/100\n",
            "25/25 [==============================] - 35s 1s/step - loss: 1.0749 - acc: 0.6135 - val_loss: 2.0512 - val_acc: 0.3982\n",
            "Epoch 22/100\n",
            "25/25 [==============================] - 34s 1s/step - loss: 1.0394 - acc: 0.6256 - val_loss: 1.6592 - val_acc: 0.4506\n",
            "Epoch 23/100\n",
            "25/25 [==============================] - 34s 1s/step - loss: 1.0065 - acc: 0.6390 - val_loss: 1.2530 - val_acc: 0.5584\n",
            "Epoch 24/100\n",
            "25/25 [==============================] - 34s 1s/step - loss: 0.9857 - acc: 0.6476 - val_loss: 1.3426 - val_acc: 0.5334\n",
            "Epoch 25/100\n",
            "25/25 [==============================] - 34s 1s/step - loss: 0.9536 - acc: 0.6572 - val_loss: 1.1378 - val_acc: 0.5897\n",
            "Epoch 26/100\n",
            "25/25 [==============================] - 35s 1s/step - loss: 0.9415 - acc: 0.6634 - val_loss: 1.3421 - val_acc: 0.5439\n",
            "Epoch 27/100\n",
            "25/25 [==============================] - 34s 1s/step - loss: 0.9630 - acc: 0.6564 - val_loss: 1.3999 - val_acc: 0.5438\n",
            "Epoch 28/100\n",
            "25/25 [==============================] - 34s 1s/step - loss: 0.9250 - acc: 0.6707 - val_loss: 1.0523 - val_acc: 0.6370\n",
            "Epoch 29/100\n",
            "25/25 [==============================] - 34s 1s/step - loss: 0.8812 - acc: 0.6865 - val_loss: 1.0547 - val_acc: 0.6343\n",
            "Epoch 30/100\n",
            "25/25 [==============================] - 35s 1s/step - loss: 0.8579 - acc: 0.6950 - val_loss: 1.0029 - val_acc: 0.6468\n",
            "Epoch 31/100\n",
            "25/25 [==============================] - 34s 1s/step - loss: 0.8547 - acc: 0.6939 - val_loss: 1.2396 - val_acc: 0.5967\n",
            "Epoch 32/100\n",
            "25/25 [==============================] - 34s 1s/step - loss: 0.8347 - acc: 0.7034 - val_loss: 1.1044 - val_acc: 0.6263\n",
            "Epoch 33/100\n",
            "25/25 [==============================] - 34s 1s/step - loss: 0.8111 - acc: 0.7112 - val_loss: 1.0281 - val_acc: 0.6399\n",
            "Epoch 34/100\n",
            "25/25 [==============================] - 34s 1s/step - loss: 0.8013 - acc: 0.7132 - val_loss: 1.1697 - val_acc: 0.6117\n",
            "Epoch 35/100\n",
            "25/25 [==============================] - 34s 1s/step - loss: 0.8108 - acc: 0.7127 - val_loss: 1.0724 - val_acc: 0.6275\n",
            "Epoch 36/100\n",
            "25/25 [==============================] - 34s 1s/step - loss: 0.7975 - acc: 0.7161 - val_loss: 1.2624 - val_acc: 0.5666\n",
            "Epoch 37/100\n",
            "25/25 [==============================] - 34s 1s/step - loss: 0.7878 - acc: 0.7198 - val_loss: 1.0335 - val_acc: 0.6428\n",
            "Epoch 38/100\n",
            "25/25 [==============================] - 34s 1s/step - loss: 0.7669 - acc: 0.7273 - val_loss: 1.1686 - val_acc: 0.6255\n",
            "Epoch 39/100\n",
            "25/25 [==============================] - 35s 1s/step - loss: 0.7629 - acc: 0.7264 - val_loss: 1.0367 - val_acc: 0.6472\n",
            "Epoch 40/100\n",
            "25/25 [==============================] - 34s 1s/step - loss: 0.7628 - acc: 0.7303 - val_loss: 1.2342 - val_acc: 0.5970\n",
            "Epoch 41/100\n",
            "25/25 [==============================] - 35s 1s/step - loss: 0.7797 - acc: 0.7253 - val_loss: 4.8776 - val_acc: 0.2224\n",
            "Epoch 42/100\n",
            "25/25 [==============================] - 34s 1s/step - loss: 0.9469 - acc: 0.6679 - val_loss: 12.0853 - val_acc: 0.1341\n",
            "Epoch 43/100\n",
            "25/25 [==============================] - 34s 1s/step - loss: 0.8342 - acc: 0.7057 - val_loss: 3.1733 - val_acc: 0.4040\n",
            "Epoch 44/100\n",
            "25/25 [==============================] - 34s 1s/step - loss: 0.7569 - acc: 0.7348 - val_loss: 1.0793 - val_acc: 0.6529\n",
            "Epoch 45/100\n",
            "25/25 [==============================] - 34s 1s/step - loss: 0.7497 - acc: 0.7361 - val_loss: 1.2348 - val_acc: 0.5833\n",
            "Epoch 46/100\n",
            "25/25 [==============================] - 34s 1s/step - loss: 0.7198 - acc: 0.7434 - val_loss: 1.0245 - val_acc: 0.6501\n",
            "Epoch 47/100\n",
            "25/25 [==============================] - 34s 1s/step - loss: 0.6914 - acc: 0.7576 - val_loss: 0.8908 - val_acc: 0.6944\n",
            "Epoch 48/100\n",
            "25/25 [==============================] - 34s 1s/step - loss: 0.6823 - acc: 0.7569 - val_loss: 0.8577 - val_acc: 0.6976\n",
            "Epoch 49/100\n",
            "25/25 [==============================] - 34s 1s/step - loss: 0.6715 - acc: 0.7616 - val_loss: 0.9240 - val_acc: 0.6767\n",
            "Epoch 50/100\n",
            "25/25 [==============================] - 35s 1s/step - loss: 0.7063 - acc: 0.7485 - val_loss: 1.1659 - val_acc: 0.6229\n",
            "Epoch 51/100\n",
            "25/25 [==============================] - 34s 1s/step - loss: 0.6701 - acc: 0.7644 - val_loss: 1.0964 - val_acc: 0.6273\n",
            "Epoch 52/100\n",
            "25/25 [==============================] - 34s 1s/step - loss: 0.8006 - acc: 0.7231 - val_loss: 2.2442 - val_acc: 0.3994\n",
            "Epoch 53/100\n",
            "25/25 [==============================] - 34s 1s/step - loss: 0.8470 - acc: 0.7025 - val_loss: 1.5976 - val_acc: 0.5309\n",
            "Epoch 54/100\n",
            "25/25 [==============================] - 35s 1s/step - loss: 0.7317 - acc: 0.7397 - val_loss: 1.7196 - val_acc: 0.5060\n",
            "Epoch 55/100\n",
            "25/25 [==============================] - 34s 1s/step - loss: 0.6859 - acc: 0.7551 - val_loss: 1.1684 - val_acc: 0.6337\n",
            "Epoch 56/100\n",
            "25/25 [==============================] - 34s 1s/step - loss: 0.6533 - acc: 0.7654 - val_loss: 1.0237 - val_acc: 0.6678\n",
            "Epoch 57/100\n",
            "25/25 [==============================] - 34s 1s/step - loss: 0.6378 - acc: 0.7733 - val_loss: 0.8760 - val_acc: 0.7082\n",
            "Epoch 58/100\n",
            "25/25 [==============================] - 34s 1s/step - loss: 0.6250 - acc: 0.7770 - val_loss: 0.9670 - val_acc: 0.6853\n",
            "Epoch 59/100\n",
            "25/25 [==============================] - 34s 1s/step - loss: 0.6112 - acc: 0.7811 - val_loss: 0.8627 - val_acc: 0.7098\n",
            "Epoch 60/100\n",
            "25/25 [==============================] - 34s 1s/step - loss: 0.5970 - acc: 0.7878 - val_loss: 0.8760 - val_acc: 0.7013\n",
            "Epoch 61/100\n",
            "25/25 [==============================] - 34s 1s/step - loss: 0.5888 - acc: 0.7918 - val_loss: 0.8365 - val_acc: 0.7204\n",
            "Epoch 62/100\n",
            "25/25 [==============================] - 34s 1s/step - loss: 0.5820 - acc: 0.7926 - val_loss: 0.8407 - val_acc: 0.7144\n",
            "Epoch 63/100\n",
            "25/25 [==============================] - 34s 1s/step - loss: 0.5796 - acc: 0.7941 - val_loss: 0.8118 - val_acc: 0.7266\n",
            "Epoch 64/100\n",
            "25/25 [==============================] - 34s 1s/step - loss: 0.6274 - acc: 0.7807 - val_loss: 1.2140 - val_acc: 0.6314\n",
            "Epoch 65/100\n",
            "25/25 [==============================] - 34s 1s/step - loss: 0.5927 - acc: 0.7887 - val_loss: 0.9371 - val_acc: 0.6963\n",
            "Epoch 66/100\n",
            "25/25 [==============================] - 34s 1s/step - loss: 0.5973 - acc: 0.7886 - val_loss: 0.9429 - val_acc: 0.7016\n",
            "Epoch 67/100\n",
            "25/25 [==============================] - 34s 1s/step - loss: 0.7041 - acc: 0.7498 - val_loss: 1.1288 - val_acc: 0.6569\n",
            "Epoch 68/100\n",
            "25/25 [==============================] - 34s 1s/step - loss: 0.6135 - acc: 0.7809 - val_loss: 0.8499 - val_acc: 0.7205\n",
            "Epoch 69/100\n",
            "25/25 [==============================] - 34s 1s/step - loss: 0.5662 - acc: 0.7997 - val_loss: 0.8874 - val_acc: 0.7070\n",
            "Epoch 70/100\n",
            "25/25 [==============================] - 34s 1s/step - loss: 0.5597 - acc: 0.8010 - val_loss: 0.7881 - val_acc: 0.7336\n",
            "Epoch 71/100\n",
            "25/25 [==============================] - 34s 1s/step - loss: 0.5470 - acc: 0.8069 - val_loss: 0.8520 - val_acc: 0.7217\n",
            "Epoch 72/100\n",
            "25/25 [==============================] - 34s 1s/step - loss: 0.5234 - acc: 0.8151 - val_loss: 0.7568 - val_acc: 0.7446\n",
            "Epoch 73/100\n",
            "25/25 [==============================] - 34s 1s/step - loss: 0.5160 - acc: 0.8147 - val_loss: 0.7827 - val_acc: 0.7438\n",
            "Epoch 74/100\n",
            "25/25 [==============================] - 34s 1s/step - loss: 0.5132 - acc: 0.8165 - val_loss: 0.8708 - val_acc: 0.7302\n",
            "Epoch 75/100\n",
            "25/25 [==============================] - 34s 1s/step - loss: 0.5003 - acc: 0.8233 - val_loss: 0.7934 - val_acc: 0.7413\n",
            "Epoch 76/100\n",
            "25/25 [==============================] - 34s 1s/step - loss: 0.4945 - acc: 0.8239 - val_loss: 0.9806 - val_acc: 0.6886\n",
            "Epoch 77/100\n",
            "25/25 [==============================] - 34s 1s/step - loss: 0.4919 - acc: 0.8255 - val_loss: 1.0278 - val_acc: 0.6806\n",
            "Epoch 78/100\n",
            "25/25 [==============================] - 34s 1s/step - loss: 0.4816 - acc: 0.8284 - val_loss: 0.9167 - val_acc: 0.7017\n",
            "Epoch 79/100\n",
            "25/25 [==============================] - 34s 1s/step - loss: 0.4807 - acc: 0.8288 - val_loss: 0.8470 - val_acc: 0.7294\n",
            "Epoch 80/100\n",
            "25/25 [==============================] - 34s 1s/step - loss: 0.4718 - acc: 0.8309 - val_loss: 0.8456 - val_acc: 0.7301\n",
            "Epoch 81/100\n",
            "25/25 [==============================] - 34s 1s/step - loss: 0.4651 - acc: 0.8347 - val_loss: 0.8767 - val_acc: 0.7218\n",
            "Epoch 82/100\n",
            "25/25 [==============================] - 34s 1s/step - loss: 0.4692 - acc: 0.8308 - val_loss: 1.1237 - val_acc: 0.6653\n",
            "Epoch 83/100\n",
            "25/25 [==============================] - 34s 1s/step - loss: 0.4583 - acc: 0.8373 - val_loss: 0.8461 - val_acc: 0.7269\n",
            "Epoch 84/100\n",
            "25/25 [==============================] - 35s 1s/step - loss: 0.4495 - acc: 0.8394 - val_loss: 0.8437 - val_acc: 0.7296\n",
            "Epoch 85/100\n"
          ],
          "name": "stdout"
        }
      ]
    },
    {
      "cell_type": "code",
      "metadata": {
        "id": "r7A7BqVVfxAu",
        "colab_type": "code",
        "outputId": "e62cf995-1491-48ca-c2c6-6ee20c12c21a",
        "colab": {
          "base_uri": "https://localhost:8080/",
          "height": 624
        }
      },
      "source": [
        "plot_learningCurve(history,epochs)\n",
        "\n",
        "# Evaluate trained model.\n",
        "scores = model.evaluate(x_test, y_test, verbose=1)\n",
        "print('Test loss:', scores[0])\n",
        "print('Test accuracy:', scores[1])\n"
      ],
      "execution_count": 0,
      "outputs": [
        {
          "output_type": "display_data",
          "data": {
            "image/png": "[encoded data removed]",
            "text/plain": [
              "<Figure size 432x288 with 1 Axes>"
            ]
          },
          "metadata": {
            "tags": []
          }
        },
        {
          "output_type": "display_data",
          "data": {
            "image/png": "[encoded data removed]",
            "text/plain": [
              "<Figure size 432x288 with 1 Axes>"
            ]
          },
          "metadata": {
            "tags": []
          }
        },
        {
          "output_type": "stream",
          "text": [
            "10000/10000 [==============================] - 5s 480us/step\n",
            "Test loss: 0.8933749699115753\n",
            "Test accuracy: 0.7338\n"
          ],
          "name": "stdout"
        }
      ]
    }
  ]
}